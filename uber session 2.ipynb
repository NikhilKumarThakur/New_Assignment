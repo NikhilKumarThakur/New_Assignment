{
 "cells": [
  {
   "cell_type": "code",
   "execution_count": 3,
   "id": "140fccde",
   "metadata": {},
   "outputs": [],
   "source": [
    "import pandas as pd\n",
    "import numpy as np\n",
    "import matplotlib.pyplot as plt\n",
    "%matplotlib inline"
   ]
  },
  {
   "cell_type": "code",
   "execution_count": 4,
   "id": "4a6a8c31",
   "metadata": {},
   "outputs": [
    {
     "data": {
      "text/html": [
       "<div>\n",
       "<style scoped>\n",
       "    .dataframe tbody tr th:only-of-type {\n",
       "        vertical-align: middle;\n",
       "    }\n",
       "\n",
       "    .dataframe tbody tr th {\n",
       "        vertical-align: top;\n",
       "    }\n",
       "\n",
       "    .dataframe thead th {\n",
       "        text-align: right;\n",
       "    }\n",
       "</style>\n",
       "<table border=\"1\" class=\"dataframe\">\n",
       "  <thead>\n",
       "    <tr style=\"text-align: right;\">\n",
       "      <th></th>\n",
       "      <th>Date/Time</th>\n",
       "      <th>Lat</th>\n",
       "      <th>Lon</th>\n",
       "      <th>Base</th>\n",
       "    </tr>\n",
       "  </thead>\n",
       "  <tbody>\n",
       "    <tr>\n",
       "      <th>0</th>\n",
       "      <td>8/1/2014 0:03:00</td>\n",
       "      <td>40.7366</td>\n",
       "      <td>-73.9906</td>\n",
       "      <td>B02512</td>\n",
       "    </tr>\n",
       "    <tr>\n",
       "      <th>1</th>\n",
       "      <td>8/1/2014 0:09:00</td>\n",
       "      <td>40.7260</td>\n",
       "      <td>-73.9918</td>\n",
       "      <td>B02512</td>\n",
       "    </tr>\n",
       "    <tr>\n",
       "      <th>2</th>\n",
       "      <td>8/1/2014 0:12:00</td>\n",
       "      <td>40.7209</td>\n",
       "      <td>-74.0507</td>\n",
       "      <td>B02512</td>\n",
       "    </tr>\n",
       "    <tr>\n",
       "      <th>3</th>\n",
       "      <td>8/1/2014 0:12:00</td>\n",
       "      <td>40.7387</td>\n",
       "      <td>-73.9856</td>\n",
       "      <td>B02512</td>\n",
       "    </tr>\n",
       "    <tr>\n",
       "      <th>4</th>\n",
       "      <td>8/1/2014 0:12:00</td>\n",
       "      <td>40.7323</td>\n",
       "      <td>-74.0077</td>\n",
       "      <td>B02512</td>\n",
       "    </tr>\n",
       "  </tbody>\n",
       "</table>\n",
       "</div>"
      ],
      "text/plain": [
       "          Date/Time      Lat      Lon    Base\n",
       "0  8/1/2014 0:03:00  40.7366 -73.9906  B02512\n",
       "1  8/1/2014 0:09:00  40.7260 -73.9918  B02512\n",
       "2  8/1/2014 0:12:00  40.7209 -74.0507  B02512\n",
       "3  8/1/2014 0:12:00  40.7387 -73.9856  B02512\n",
       "4  8/1/2014 0:12:00  40.7323 -74.0077  B02512"
      ]
     },
     "execution_count": 4,
     "metadata": {},
     "output_type": "execute_result"
    }
   ],
   "source": [
    "df=pd.read_csv(r\"C:\\Users\\niks9\\OneDrive\\Desktop\\DATA ANALYSIS\\uber-raw-data-aug14.csv\")\n",
    "df.head()"
   ]
  },
  {
   "cell_type": "code",
   "execution_count": 5,
   "id": "b29fe126",
   "metadata": {},
   "outputs": [],
   "source": [
    "# Convert the 'Date/Time' column to datetime format\n",
    "df['Date/Time']=pd.to_datetime(df['Date/Time'])"
   ]
  },
  {
   "cell_type": "code",
   "execution_count": 6,
   "id": "084adf71",
   "metadata": {},
   "outputs": [
    {
     "data": {
      "text/plain": [
       "0   2014-08-01 00:03:00\n",
       "1   2014-08-01 00:09:00\n",
       "2   2014-08-01 00:12:00\n",
       "3   2014-08-01 00:12:00\n",
       "4   2014-08-01 00:12:00\n",
       "Name: Date/Time, dtype: datetime64[ns]"
      ]
     },
     "execution_count": 6,
     "metadata": {},
     "output_type": "execute_result"
    }
   ],
   "source": [
    "df['Date/Time'].head()"
   ]
  },
  {
   "cell_type": "code",
   "execution_count": 82,
   "id": "9c141028",
   "metadata": {},
   "outputs": [
    {
     "data": {
      "text/plain": [
       "0         2014-08-01\n",
       "1         2014-08-01\n",
       "2         2014-08-01\n",
       "3         2014-08-01\n",
       "4         2014-08-01\n",
       "             ...    \n",
       "829270    2014-08-31\n",
       "829271    2014-08-31\n",
       "829272    2014-08-31\n",
       "829273    2014-08-31\n",
       "829274    2014-08-31\n",
       "Name: Date/Time, Length: 829275, dtype: object"
      ]
     },
     "execution_count": 82,
     "metadata": {},
     "output_type": "execute_result"
    }
   ],
   "source": [
    "df['Date/Time'].dt.date"
   ]
  },
  {
   "cell_type": "code",
   "execution_count": 89,
   "id": "79e3c610",
   "metadata": {},
   "outputs": [
    {
     "data": {
      "text/html": [
       "<div>\n",
       "<style scoped>\n",
       "    .dataframe tbody tr th:only-of-type {\n",
       "        vertical-align: middle;\n",
       "    }\n",
       "\n",
       "    .dataframe tbody tr th {\n",
       "        vertical-align: top;\n",
       "    }\n",
       "\n",
       "    .dataframe thead th {\n",
       "        text-align: right;\n",
       "    }\n",
       "</style>\n",
       "<table border=\"1\" class=\"dataframe\">\n",
       "  <thead>\n",
       "    <tr style=\"text-align: right;\">\n",
       "      <th></th>\n",
       "      <th>Date/Time</th>\n",
       "      <th>Lat</th>\n",
       "      <th>Lon</th>\n",
       "      <th>Base</th>\n",
       "      <th>hour</th>\n",
       "    </tr>\n",
       "    <tr>\n",
       "      <th>Date/Time</th>\n",
       "      <th></th>\n",
       "      <th></th>\n",
       "      <th></th>\n",
       "      <th></th>\n",
       "      <th></th>\n",
       "    </tr>\n",
       "  </thead>\n",
       "  <tbody>\n",
       "    <tr>\n",
       "      <th>2014-08-01</th>\n",
       "      <td>32353</td>\n",
       "      <td>32353</td>\n",
       "      <td>32353</td>\n",
       "      <td>32353</td>\n",
       "      <td>32353</td>\n",
       "    </tr>\n",
       "    <tr>\n",
       "      <th>2014-08-02</th>\n",
       "      <td>28678</td>\n",
       "      <td>28678</td>\n",
       "      <td>28678</td>\n",
       "      <td>28678</td>\n",
       "      <td>28678</td>\n",
       "    </tr>\n",
       "    <tr>\n",
       "      <th>2014-08-03</th>\n",
       "      <td>23146</td>\n",
       "      <td>23146</td>\n",
       "      <td>23146</td>\n",
       "      <td>23146</td>\n",
       "      <td>23146</td>\n",
       "    </tr>\n",
       "    <tr>\n",
       "      <th>2014-08-04</th>\n",
       "      <td>24952</td>\n",
       "      <td>24952</td>\n",
       "      <td>24952</td>\n",
       "      <td>24952</td>\n",
       "      <td>24952</td>\n",
       "    </tr>\n",
       "    <tr>\n",
       "      <th>2014-08-05</th>\n",
       "      <td>28094</td>\n",
       "      <td>28094</td>\n",
       "      <td>28094</td>\n",
       "      <td>28094</td>\n",
       "      <td>28094</td>\n",
       "    </tr>\n",
       "    <tr>\n",
       "      <th>2014-08-06</th>\n",
       "      <td>30495</td>\n",
       "      <td>30495</td>\n",
       "      <td>30495</td>\n",
       "      <td>30495</td>\n",
       "      <td>30495</td>\n",
       "    </tr>\n",
       "    <tr>\n",
       "      <th>2014-08-07</th>\n",
       "      <td>32759</td>\n",
       "      <td>32759</td>\n",
       "      <td>32759</td>\n",
       "      <td>32759</td>\n",
       "      <td>32759</td>\n",
       "    </tr>\n",
       "    <tr>\n",
       "      <th>2014-08-08</th>\n",
       "      <td>30411</td>\n",
       "      <td>30411</td>\n",
       "      <td>30411</td>\n",
       "      <td>30411</td>\n",
       "      <td>30411</td>\n",
       "    </tr>\n",
       "    <tr>\n",
       "      <th>2014-08-09</th>\n",
       "      <td>26286</td>\n",
       "      <td>26286</td>\n",
       "      <td>26286</td>\n",
       "      <td>26286</td>\n",
       "      <td>26286</td>\n",
       "    </tr>\n",
       "    <tr>\n",
       "      <th>2014-08-10</th>\n",
       "      <td>20584</td>\n",
       "      <td>20584</td>\n",
       "      <td>20584</td>\n",
       "      <td>20584</td>\n",
       "      <td>20584</td>\n",
       "    </tr>\n",
       "    <tr>\n",
       "      <th>2014-08-11</th>\n",
       "      <td>22632</td>\n",
       "      <td>22632</td>\n",
       "      <td>22632</td>\n",
       "      <td>22632</td>\n",
       "      <td>22632</td>\n",
       "    </tr>\n",
       "    <tr>\n",
       "      <th>2014-08-12</th>\n",
       "      <td>29646</td>\n",
       "      <td>29646</td>\n",
       "      <td>29646</td>\n",
       "      <td>29646</td>\n",
       "      <td>29646</td>\n",
       "    </tr>\n",
       "    <tr>\n",
       "      <th>2014-08-13</th>\n",
       "      <td>29788</td>\n",
       "      <td>29788</td>\n",
       "      <td>29788</td>\n",
       "      <td>29788</td>\n",
       "      <td>29788</td>\n",
       "    </tr>\n",
       "    <tr>\n",
       "      <th>2014-08-14</th>\n",
       "      <td>30457</td>\n",
       "      <td>30457</td>\n",
       "      <td>30457</td>\n",
       "      <td>30457</td>\n",
       "      <td>30457</td>\n",
       "    </tr>\n",
       "    <tr>\n",
       "      <th>2014-08-15</th>\n",
       "      <td>28974</td>\n",
       "      <td>28974</td>\n",
       "      <td>28974</td>\n",
       "      <td>28974</td>\n",
       "      <td>28974</td>\n",
       "    </tr>\n",
       "    <tr>\n",
       "      <th>2014-08-16</th>\n",
       "      <td>26234</td>\n",
       "      <td>26234</td>\n",
       "      <td>26234</td>\n",
       "      <td>26234</td>\n",
       "      <td>26234</td>\n",
       "    </tr>\n",
       "    <tr>\n",
       "      <th>2014-08-17</th>\n",
       "      <td>21209</td>\n",
       "      <td>21209</td>\n",
       "      <td>21209</td>\n",
       "      <td>21209</td>\n",
       "      <td>21209</td>\n",
       "    </tr>\n",
       "    <tr>\n",
       "      <th>2014-08-18</th>\n",
       "      <td>21956</td>\n",
       "      <td>21956</td>\n",
       "      <td>21956</td>\n",
       "      <td>21956</td>\n",
       "      <td>21956</td>\n",
       "    </tr>\n",
       "    <tr>\n",
       "      <th>2014-08-19</th>\n",
       "      <td>24834</td>\n",
       "      <td>24834</td>\n",
       "      <td>24834</td>\n",
       "      <td>24834</td>\n",
       "      <td>24834</td>\n",
       "    </tr>\n",
       "    <tr>\n",
       "      <th>2014-08-20</th>\n",
       "      <td>27955</td>\n",
       "      <td>27955</td>\n",
       "      <td>27955</td>\n",
       "      <td>27955</td>\n",
       "      <td>27955</td>\n",
       "    </tr>\n",
       "    <tr>\n",
       "      <th>2014-08-21</th>\n",
       "      <td>32304</td>\n",
       "      <td>32304</td>\n",
       "      <td>32304</td>\n",
       "      <td>32304</td>\n",
       "      <td>32304</td>\n",
       "    </tr>\n",
       "    <tr>\n",
       "      <th>2014-08-22</th>\n",
       "      <td>29512</td>\n",
       "      <td>29512</td>\n",
       "      <td>29512</td>\n",
       "      <td>29512</td>\n",
       "      <td>29512</td>\n",
       "    </tr>\n",
       "    <tr>\n",
       "      <th>2014-08-23</th>\n",
       "      <td>27097</td>\n",
       "      <td>27097</td>\n",
       "      <td>27097</td>\n",
       "      <td>27097</td>\n",
       "      <td>27097</td>\n",
       "    </tr>\n",
       "    <tr>\n",
       "      <th>2014-08-24</th>\n",
       "      <td>22036</td>\n",
       "      <td>22036</td>\n",
       "      <td>22036</td>\n",
       "      <td>22036</td>\n",
       "      <td>22036</td>\n",
       "    </tr>\n",
       "    <tr>\n",
       "      <th>2014-08-25</th>\n",
       "      <td>22093</td>\n",
       "      <td>22093</td>\n",
       "      <td>22093</td>\n",
       "      <td>22093</td>\n",
       "      <td>22093</td>\n",
       "    </tr>\n",
       "    <tr>\n",
       "      <th>2014-08-26</th>\n",
       "      <td>24550</td>\n",
       "      <td>24550</td>\n",
       "      <td>24550</td>\n",
       "      <td>24550</td>\n",
       "      <td>24550</td>\n",
       "    </tr>\n",
       "    <tr>\n",
       "      <th>2014-08-27</th>\n",
       "      <td>27018</td>\n",
       "      <td>27018</td>\n",
       "      <td>27018</td>\n",
       "      <td>27018</td>\n",
       "      <td>27018</td>\n",
       "    </tr>\n",
       "    <tr>\n",
       "      <th>2014-08-28</th>\n",
       "      <td>28597</td>\n",
       "      <td>28597</td>\n",
       "      <td>28597</td>\n",
       "      <td>28597</td>\n",
       "      <td>28597</td>\n",
       "    </tr>\n",
       "    <tr>\n",
       "      <th>2014-08-29</th>\n",
       "      <td>27424</td>\n",
       "      <td>27424</td>\n",
       "      <td>27424</td>\n",
       "      <td>27424</td>\n",
       "      <td>27424</td>\n",
       "    </tr>\n",
       "    <tr>\n",
       "      <th>2014-08-30</th>\n",
       "      <td>23930</td>\n",
       "      <td>23930</td>\n",
       "      <td>23930</td>\n",
       "      <td>23930</td>\n",
       "      <td>23930</td>\n",
       "    </tr>\n",
       "    <tr>\n",
       "      <th>2014-08-31</th>\n",
       "      <td>23271</td>\n",
       "      <td>23271</td>\n",
       "      <td>23271</td>\n",
       "      <td>23271</td>\n",
       "      <td>23271</td>\n",
       "    </tr>\n",
       "  </tbody>\n",
       "</table>\n",
       "</div>"
      ],
      "text/plain": [
       "            Date/Time    Lat    Lon   Base   hour\n",
       "Date/Time                                        \n",
       "2014-08-01      32353  32353  32353  32353  32353\n",
       "2014-08-02      28678  28678  28678  28678  28678\n",
       "2014-08-03      23146  23146  23146  23146  23146\n",
       "2014-08-04      24952  24952  24952  24952  24952\n",
       "2014-08-05      28094  28094  28094  28094  28094\n",
       "2014-08-06      30495  30495  30495  30495  30495\n",
       "2014-08-07      32759  32759  32759  32759  32759\n",
       "2014-08-08      30411  30411  30411  30411  30411\n",
       "2014-08-09      26286  26286  26286  26286  26286\n",
       "2014-08-10      20584  20584  20584  20584  20584\n",
       "2014-08-11      22632  22632  22632  22632  22632\n",
       "2014-08-12      29646  29646  29646  29646  29646\n",
       "2014-08-13      29788  29788  29788  29788  29788\n",
       "2014-08-14      30457  30457  30457  30457  30457\n",
       "2014-08-15      28974  28974  28974  28974  28974\n",
       "2014-08-16      26234  26234  26234  26234  26234\n",
       "2014-08-17      21209  21209  21209  21209  21209\n",
       "2014-08-18      21956  21956  21956  21956  21956\n",
       "2014-08-19      24834  24834  24834  24834  24834\n",
       "2014-08-20      27955  27955  27955  27955  27955\n",
       "2014-08-21      32304  32304  32304  32304  32304\n",
       "2014-08-22      29512  29512  29512  29512  29512\n",
       "2014-08-23      27097  27097  27097  27097  27097\n",
       "2014-08-24      22036  22036  22036  22036  22036\n",
       "2014-08-25      22093  22093  22093  22093  22093\n",
       "2014-08-26      24550  24550  24550  24550  24550\n",
       "2014-08-27      27018  27018  27018  27018  27018\n",
       "2014-08-28      28597  28597  28597  28597  28597\n",
       "2014-08-29      27424  27424  27424  27424  27424\n",
       "2014-08-30      23930  23930  23930  23930  23930\n",
       "2014-08-31      23271  23271  23271  23271  23271"
      ]
     },
     "execution_count": 89,
     "metadata": {},
     "output_type": "execute_result"
    }
   ],
   "source": [
    "# Group by date and count the number of pickups\n",
    "pickup=df.groupby(df['Date/Time'].dt.date).count()\n",
    "pickup"
   ]
  },
  {
   "cell_type": "code",
   "execution_count": 92,
   "id": "a5d40620",
   "metadata": {},
   "outputs": [
    {
     "name": "stdout",
     "output_type": "stream",
     "text": [
      "highest pickups happened on 2014-08-07\n"
     ]
    }
   ],
   "source": [
    "# Find the date with the highest number of picku\n",
    "highest=pickup.sort_values(by='Lat',ascending=False)\n",
    "#highest\n",
    "highest.index[0]\n",
    "print(\"highest pickups happened on\",highest.index[0])"
   ]
  },
  {
   "cell_type": "code",
   "execution_count": 99,
   "id": "fc47623e",
   "metadata": {},
   "outputs": [
    {
     "data": {
      "text/html": [
       "<div>\n",
       "<style scoped>\n",
       "    .dataframe tbody tr th:only-of-type {\n",
       "        vertical-align: middle;\n",
       "    }\n",
       "\n",
       "    .dataframe tbody tr th {\n",
       "        vertical-align: top;\n",
       "    }\n",
       "\n",
       "    .dataframe thead th {\n",
       "        text-align: right;\n",
       "    }\n",
       "</style>\n",
       "<table border=\"1\" class=\"dataframe\">\n",
       "  <thead>\n",
       "    <tr style=\"text-align: right;\">\n",
       "      <th></th>\n",
       "      <th>Date/Time</th>\n",
       "      <th>Lat</th>\n",
       "      <th>Lon</th>\n",
       "      <th>Base</th>\n",
       "      <th>hour</th>\n",
       "    </tr>\n",
       "  </thead>\n",
       "  <tbody>\n",
       "    <tr>\n",
       "      <th>6944</th>\n",
       "      <td>2014-08-07 00:03:00</td>\n",
       "      <td>40.7455</td>\n",
       "      <td>-73.9895</td>\n",
       "      <td>B02512</td>\n",
       "      <td>0</td>\n",
       "    </tr>\n",
       "    <tr>\n",
       "      <th>6945</th>\n",
       "      <td>2014-08-07 00:09:00</td>\n",
       "      <td>40.7499</td>\n",
       "      <td>-74.0025</td>\n",
       "      <td>B02512</td>\n",
       "      <td>0</td>\n",
       "    </tr>\n",
       "    <tr>\n",
       "      <th>6946</th>\n",
       "      <td>2014-08-07 00:10:00</td>\n",
       "      <td>40.7417</td>\n",
       "      <td>-74.0037</td>\n",
       "      <td>B02512</td>\n",
       "      <td>0</td>\n",
       "    </tr>\n",
       "    <tr>\n",
       "      <th>6947</th>\n",
       "      <td>2014-08-07 00:16:00</td>\n",
       "      <td>40.6416</td>\n",
       "      <td>-73.7879</td>\n",
       "      <td>B02512</td>\n",
       "      <td>0</td>\n",
       "    </tr>\n",
       "    <tr>\n",
       "      <th>6948</th>\n",
       "      <td>2014-08-07 00:16:00</td>\n",
       "      <td>40.7008</td>\n",
       "      <td>-73.9405</td>\n",
       "      <td>B02512</td>\n",
       "      <td>0</td>\n",
       "    </tr>\n",
       "  </tbody>\n",
       "</table>\n",
       "</div>"
      ],
      "text/plain": [
       "               Date/Time      Lat      Lon    Base  hour\n",
       "6944 2014-08-07 00:03:00  40.7455 -73.9895  B02512     0\n",
       "6945 2014-08-07 00:09:00  40.7499 -74.0025  B02512     0\n",
       "6946 2014-08-07 00:10:00  40.7417 -74.0037  B02512     0\n",
       "6947 2014-08-07 00:16:00  40.6416 -73.7879  B02512     0\n",
       "6948 2014-08-07 00:16:00  40.7008 -73.9405  B02512     0"
      ]
     },
     "execution_count": 99,
     "metadata": {},
     "output_type": "execute_result"
    }
   ],
   "source": [
    "# Filter the DataFrame to include only the rows for the date with the highest number of pickups\n",
    "pickup_highest_date=df[df['Date/Time'].dt.date == highest.index[0]]\n",
    "pickup_highest_date.head()"
   ]
  },
  {
   "cell_type": "code",
   "execution_count": 103,
   "id": "f3ff126e",
   "metadata": {},
   "outputs": [
    {
     "name": "stdout",
     "output_type": "stream",
     "text": [
      "No of pickups on the highest date is: 32759\n"
     ]
    }
   ],
   "source": [
    "# Get the count of pickups on the highest date\n",
    "print(\"No of pickups on the highest date is:\",pickup_highest_date.shape[0])"
   ]
  },
  {
   "cell_type": "code",
   "execution_count": 35,
   "id": "5a846a04",
   "metadata": {},
   "outputs": [
    {
     "name": "stdout",
     "output_type": "stream",
     "text": [
      "the number of unique TLC base companies is 5\n"
     ]
    }
   ],
   "source": [
    "# Count the number of unique TLC base companies\n",
    "unique_companies=df['Base'].nunique()\n",
    "print(\"the number of unique TLC base companies is\",unique_companies)"
   ]
  },
  {
   "cell_type": "code",
   "execution_count": 122,
   "id": "86b51a95",
   "metadata": {
    "scrolled": true
   },
   "outputs": [
    {
     "name": "stdout",
     "output_type": "stream",
     "text": [
      "B02617    355803\n",
      "B02598    220129\n",
      "B02682    173280\n",
      "B02764     48591\n",
      "B02512     31472\n",
      "Name: Base, dtype: int64\n"
     ]
    }
   ],
   "source": [
    "# Group by TLC base company and count the number of pickups\n",
    "df.groupby('Base')[['Lat','Lon']].count\n",
    "\n",
    "\n",
    "print(df['Base'].value_counts())\n",
    "\n"
   ]
  },
  {
   "cell_type": "code",
   "execution_count": 123,
   "id": "e5294a9b",
   "metadata": {},
   "outputs": [
    {
     "data": {
      "text/plain": [
       "'B02617'"
      ]
     },
     "execution_count": 123,
     "metadata": {},
     "output_type": "execute_result"
    }
   ],
   "source": [
    "# Find the TLC base company with the highest number of pickups\n",
    "df['Base'].value_counts().index[0]\n"
   ]
  },
  {
   "cell_type": "code",
   "execution_count": 127,
   "id": "655bcd6e",
   "metadata": {},
   "outputs": [
    {
     "data": {
      "text/plain": [
       "0    0\n",
       "1    0\n",
       "2    0\n",
       "3    0\n",
       "4    0\n",
       "Name: hour, dtype: int64"
      ]
     },
     "execution_count": 127,
     "metadata": {},
     "output_type": "execute_result"
    }
   ],
   "source": [
    "# Extract the hour from the 'Date/Time' column\n",
    "df['hour']=df['Date/Time'].dt.hour\n",
    "df['hour'].head()"
   ]
  },
  {
   "cell_type": "code",
   "execution_count": 129,
   "id": "0b896485",
   "metadata": {},
   "outputs": [
    {
     "name": "stdout",
     "output_type": "stream",
     "text": [
      "      Date/Time    Lat    Lon   Base\n",
      "hour                                \n",
      "0         21451  21451  21451  21451\n",
      "1         14471  14471  14471  14471\n",
      "2         10105  10105  10105  10105\n",
      "3         10376  10376  10376  10376\n",
      "4         11774  11774  11774  11774\n",
      "5         16525  16525  16525  16525\n",
      "6         24907  24907  24907  24907\n",
      "7         34064  34064  34064  34064\n",
      "8         34566  34566  34566  34566\n",
      "9         30195  30195  30195  30195\n",
      "10        30706  30706  30706  30706\n",
      "11        31778  31778  31778  31778\n",
      "12        32106  32106  32106  32106\n",
      "13        35764  35764  35764  35764\n",
      "14        40644  40644  40644  40644\n",
      "15        48197  48197  48197  48197\n",
      "16        53481  53481  53481  53481\n",
      "17        57122  57122  57122  57122\n",
      "18        55390  55390  55390  55390\n",
      "19        53008  53008  53008  53008\n",
      "20        51674  51674  51674  51674\n",
      "21        51354  51354  51354  51354\n",
      "22        46008  46008  46008  46008\n",
      "23        33609  33609  33609  33609\n"
     ]
    }
   ],
   "source": [
    "# Group by hour and count the number of pickups\n",
    "print(df.groupby('hour').count())\n",
    "\n",
    "#print(df['hour'].value_counts())"
   ]
  },
  {
   "cell_type": "code",
   "execution_count": 66,
   "id": "83acfd0e",
   "metadata": {},
   "outputs": [],
   "source": [
    "import matplotlib.pyplot as plt"
   ]
  },
  {
   "cell_type": "code",
   "execution_count": 68,
   "id": "1064c38c",
   "metadata": {},
   "outputs": [
    {
     "name": "stdout",
     "output_type": "stream",
     "text": [
      "2014-08-07    32759\n",
      "2014-08-01    32353\n",
      "2014-08-21    32304\n",
      "2014-08-06    30495\n",
      "2014-08-14    30457\n",
      "2014-08-08    30411\n",
      "2014-08-13    29788\n",
      "2014-08-12    29646\n",
      "2014-08-22    29512\n",
      "2014-08-15    28974\n",
      "2014-08-02    28678\n",
      "2014-08-28    28597\n",
      "2014-08-05    28094\n",
      "2014-08-20    27955\n",
      "2014-08-29    27424\n",
      "2014-08-23    27097\n",
      "2014-08-27    27018\n",
      "2014-08-09    26286\n",
      "2014-08-16    26234\n",
      "2014-08-04    24952\n",
      "2014-08-19    24834\n",
      "2014-08-26    24550\n",
      "2014-08-30    23930\n",
      "2014-08-31    23271\n",
      "2014-08-03    23146\n",
      "2014-08-11    22632\n",
      "2014-08-25    22093\n",
      "2014-08-24    22036\n",
      "2014-08-18    21956\n",
      "2014-08-17    21209\n",
      "2014-08-10    20584\n",
      "Name: Date/Time, dtype: int64\n"
     ]
    }
   ],
   "source": [
    "# Group by date and count the number of pickups\n",
    "a=df['Date/Time'].dt.date.value_counts()\n",
    "print(a)"
   ]
  },
  {
   "cell_type": "code",
   "execution_count": 70,
   "id": "362b3afc",
   "metadata": {},
   "outputs": [
    {
     "data": {
      "text/plain": [
       "<Axes: >"
      ]
     },
     "execution_count": 70,
     "metadata": {},
     "output_type": "execute_result"
    },
    {
     "data": {
      "image/png": "[encoded data removed]",
      "text/plain": [
       "<Figure size 640x480 with 1 Axes>"
      ]
     },
     "metadata": {},
     "output_type": "display_data"
    }
   ],
   "source": [
    "# Create a line plot to visualize the number of pickups over time\n",
    "a.plot(kind='line')"
   ]
  },
  {
   "cell_type": "code",
   "execution_count": 72,
   "id": "1a8931be",
   "metadata": {},
   "outputs": [
    {
     "data": {
      "text/plain": [
       "<matplotlib.collections.PathCollection at 0x1cdc943c7f0>"
      ]
     },
     "execution_count": 72,
     "metadata": {},
     "output_type": "execute_result"
    },
    {
     "data": {
      "image/png": "[encoded data removed]",
      "text/plain": [
       "<Figure size 640x480 with 1 Axes>"
      ]
     },
     "metadata": {},
     "output_type": "display_data"
    }
   ],
   "source": [
    "# Create a scatter plot to visualize the distribution of Uber pickups based on latitude and longitude\n",
    "plt.scatter(df['Lat'],df['Lon'])"
   ]
  },
  {
   "cell_type": "code",
   "execution_count": 74,
   "id": "53ad34f0",
   "metadata": {},
   "outputs": [
    {
     "data": {
      "text/plain": [
       "<Axes: >"
      ]
     },
     "execution_count": 74,
     "metadata": {},
     "output_type": "execute_result"
    },
    {
     "data": {
      "image/png": "[encoded data removed]",
      "text/plain": [
       "<Figure size 640x480 with 1 Axes>"
      ]
     },
     "metadata": {},
     "output_type": "display_data"
    }
   ],
   "source": [
    "# Create a bar chart to compare the number of Uber pickups for each TLC base company\n",
    "b=df['Base'].value_counts()\n",
    "b.plot(kind=\"bar\")"
   ]
  },
  {
   "cell_type": "code",
   "execution_count": 76,
   "id": "e122c0cf",
   "metadata": {},
   "outputs": [
    {
     "data": {
      "text/plain": [
       "Friday       148674\n",
       "Saturday     132225\n",
       "Thursday     124117\n",
       "Wednesday    115256\n",
       "Sunday       110246\n",
       "Tuesday      107124\n",
       "Monday        91633\n",
       "Name: Date/Time, dtype: int64"
      ]
     },
     "execution_count": 76,
     "metadata": {},
     "output_type": "execute_result"
    }
   ],
   "source": [
    "# Group by day of the week and count the number of pickups\n",
    "c=df['Date/Time'].dt.day_name().value_counts()\n",
    "c"
   ]
  },
  {
   "cell_type": "code",
   "execution_count": 79,
   "id": "a952c7b9",
   "metadata": {},
   "outputs": [
    {
     "data": {
      "text/plain": [
       "([<matplotlib.patches.Wedge at 0x1cdca773d90>,\n",
       "  <matplotlib.patches.Wedge at 0x1cdca773b50>,\n",
       "  <matplotlib.patches.Wedge at 0x1cdca7724d0>,\n",
       "  <matplotlib.patches.Wedge at 0x1cdca7700d0>,\n",
       "  <matplotlib.patches.Wedge at 0x1cdca772200>,\n",
       "  <matplotlib.patches.Wedge at 0x1cdca770c70>,\n",
       "  <matplotlib.patches.Wedge at 0x1cdca770a00>],\n",
       " [Text(0.9300880383460428, 0.5873127283871944, 'Friday'),\n",
       "  Text(-0.06220598831434326, 1.0982396892381172, 'Saturday'),\n",
       "  Text(-0.9417221986788412, 0.5684710199433999, 'Thursday'),\n",
       "  Text(-1.028033223372264, -0.3913408893060284, 'Wednesday'),\n",
       "  Text(-0.3800603265473332, -1.0322568227842985, 'Sunday'),\n",
       "  Text(0.49885579314323897, -0.9803789561426899, 'Tuesday'),\n",
       "  Text(1.0343849695943852, -0.3742295213865723, 'Monday')])"
      ]
     },
     "execution_count": 79,
     "metadata": {},
     "output_type": "execute_result"
    },
    {
     "data": {
      "image/png": "[encoded data removed]",
      "text/plain": [
       "<Figure size 640x480 with 1 Axes>"
      ]
     },
     "metadata": {},
     "output_type": "display_data"
    }
   ],
   "source": [
    "# Create a pie chart to display the percentage distribution of Uber pickups for each day of the week\n",
    "plt.pie(c.values,labels=c.index)\n"
   ]
  },
  {
   "cell_type": "code",
   "execution_count": null,
   "id": "d1d857fd",
   "metadata": {},
   "outputs": [],
   "source": []
  }
 ],
 "metadata": {
  "kernelspec": {
   "display_name": "Python 3 (ipykernel)",
   "language": "python",
   "name": "python3"
  },
  "language_info": {
   "codemirror_mode": {
    "name": "ipython",
    "version": 3
   },
   "file_extension": ".py",
   "mimetype": "text/x-python",
   "name": "python",
   "nbconvert_exporter": "python",
   "pygments_lexer": "ipython3",
   "version": "3.10.9"
  }
 },
 "nbformat": 4,
 "nbformat_minor": 5
}
